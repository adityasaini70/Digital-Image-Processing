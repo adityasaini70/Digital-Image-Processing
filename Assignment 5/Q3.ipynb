{
 "cells": [
  {
   "cell_type": "code",
   "execution_count": 1,
   "metadata": {},
   "outputs": [],
   "source": [
    "import numpy as np\n",
    "import pandas as pd\n",
    "import matplotlib.pyplot as plt\n",
    "import math\n",
    "from scipy import signal"
   ]
  },
  {
   "cell_type": "code",
   "execution_count": 2,
   "metadata": {},
   "outputs": [],
   "source": [
    "f=np.array([[1,1,1,1],[0,10,10,1],[0,2,3,1],[0,5,15,8]])"
   ]
  },
  {
   "cell_type": "code",
   "execution_count": 3,
   "metadata": {
    "scrolled": true
   },
   "outputs": [
    {
     "data": {
      "text/plain": [
       "<matplotlib.colorbar.Colorbar at 0x190f6d98190>"
      ]
     },
     "execution_count": 3,
     "metadata": {},
     "output_type": "execute_result"
    },
    {
     "data": {
      "image/png": "[encoded data removed]",
      "text/plain": [
       "<Figure size 432x288 with 2 Axes>"
      ]
     },
     "metadata": {
      "needs_background": "light"
     },
     "output_type": "display_data"
    }
   ],
   "source": [
    "plt.imshow(f)\n",
    "plt.colorbar()"
   ]
  },
  {
   "cell_type": "code",
   "execution_count": 4,
   "metadata": {},
   "outputs": [],
   "source": [
    "#Computing gradients\n",
    "\n",
    "sobel_x = np.array([[-1,-2,-1],[0,0,0],[1,2,1]])\n",
    "sobel_y = np.array([[-1,0,1],[-2,0,2],[-1,0,1]])"
   ]
  },
  {
   "cell_type": "code",
   "execution_count": 5,
   "metadata": {},
   "outputs": [],
   "source": [
    "G_x = signal.correlate2d(f,sobel_x,mode='same')\n",
    "G_y = signal.correlate2d(f,sobel_y,mode='same')"
   ]
  },
  {
   "cell_type": "code",
   "execution_count": 6,
   "metadata": {},
   "outputs": [
    {
     "name": "stdout",
     "output_type": "stream",
     "text": [
      "[[10 30 31 12]\n",
      " [-1  3  5  2]\n",
      " [-5 -5 12 19]\n",
      " [-2 -7 -9 -5]]\n"
     ]
    },
    {
     "data": {
      "image/png": "[encoded data removed]",
      "text/plain": [
       "<Figure size 432x288 with 2 Axes>"
      ]
     },
     "metadata": {
      "needs_background": "light"
     },
     "output_type": "display_data"
    }
   ],
   "source": [
    "plt.imshow(G_x, extent=[0, 1, 0, 1])\n",
    "plt.colorbar()\n",
    "print(G_x)"
   ]
  },
  {
   "cell_type": "code",
   "execution_count": 7,
   "metadata": {},
   "outputs": [
    {
     "name": "stdout",
     "output_type": "stream",
     "text": [
      "[[ 12  10  -9 -12]\n",
      " [ 23  23 -19 -24]\n",
      " [ 19  31  -8 -31]\n",
      " [ 12  33   5 -33]]\n"
     ]
    },
    {
     "data": {
      "image/png": "[encoded data removed]",
      "text/plain": [
       "<Figure size 432x288 with 2 Axes>"
      ]
     },
     "metadata": {
      "needs_background": "light"
     },
     "output_type": "display_data"
    }
   ],
   "source": [
    "plt.imshow(G_y, extent=[0, 1, 0, 1])\n",
    "plt.colorbar()\n",
    "print(G_y)"
   ]
  },
  {
   "cell_type": "code",
   "execution_count": 8,
   "metadata": {},
   "outputs": [
    {
     "name": "stdout",
     "output_type": "stream",
     "text": [
      "[[22 40 40 24]\n",
      " [24 26 24 26]\n",
      " [24 36 20 50]\n",
      " [14 40 14 38]]\n"
     ]
    }
   ],
   "source": [
    "M = np.abs(G_x) + np.abs(G_y)\n",
    "print(M)"
   ]
  },
  {
   "cell_type": "code",
   "execution_count": 9,
   "metadata": {},
   "outputs": [
    {
     "name": "stdout",
     "output_type": "stream",
     "text": [
      "[[ 50.19442891  18.43494882 -16.18920626 -45.        ]\n",
      " [ 92.48955292  82.56859203 -75.25643716 -85.23635831]\n",
      " [104.74356284  99.16234705 -33.69006753 -58.49573328]\n",
      " [ 99.46232221 101.97613244 150.9453959  -98.61564818]]\n"
     ]
    }
   ],
   "source": [
    "dir_M = np.arctan2(G_y, G_x) * 180 / np.pi\n",
    "print(dir_M)"
   ]
  },
  {
   "cell_type": "code",
   "execution_count": 11,
   "metadata": {},
   "outputs": [
    {
     "name": "stdout",
     "output_type": "stream",
     "text": [
      "[[False  True  True False]\n",
      " [False False False False]\n",
      " [False False False False]\n",
      " [False False False False]]\n"
     ]
    }
   ],
   "source": [
    "horiz_mask = np.logical_or(np.logical_and(dir_M<=22.5,dir_M>=-22.5),np.logical_and(dir_M>=157.5,dir_M<=-157.5))\n",
    "print(horiz_mask)"
   ]
  },
  {
   "cell_type": "code",
   "execution_count": 12,
   "metadata": {},
   "outputs": [
    {
     "name": "stdout",
     "output_type": "stream",
     "text": [
      "[[False False False False]\n",
      " [ True  True  True  True]\n",
      " [ True  True False False]\n",
      " [ True  True False  True]]\n"
     ]
    }
   ],
   "source": [
    "vert_mask = np.logical_or(np.logical_and(dir_M<=-67.5,dir_M>=-112.5),np.logical_and(dir_M<=112.5,dir_M>=67.5))\n",
    "print(vert_mask)"
   ]
  },
  {
   "cell_type": "code",
   "execution_count": 13,
   "metadata": {},
   "outputs": [
    {
     "name": "stdout",
     "output_type": "stream",
     "text": [
      "[[False False False  True]\n",
      " [False False False False]\n",
      " [False False  True  True]\n",
      " [False False  True False]]\n"
     ]
    }
   ],
   "source": [
    "plus45_mask = np.logical_or(np.logical_and(dir_M<157.5,dir_M>112.5),np.logical_and(dir_M<-22.5,dir_M>-67.5))\n",
    "print(plus45_mask)"
   ]
  },
  {
   "cell_type": "code",
   "execution_count": 14,
   "metadata": {},
   "outputs": [
    {
     "name": "stdout",
     "output_type": "stream",
     "text": [
      "[[ True False False False]\n",
      " [False False False False]\n",
      " [False False False False]\n",
      " [False False False False]]\n"
     ]
    }
   ],
   "source": [
    "minus45_mask = np.logical_or(np.logical_and(dir_M<67.5,dir_M>22.5),np.logical_and(dir_M<-112.5,dir_M>-157.5))\n",
    "print(minus45_mask)"
   ]
  },
  {
   "cell_type": "code",
   "execution_count": 15,
   "metadata": {},
   "outputs": [
    {
     "data": {
      "text/plain": [
       "array([[ True,  True,  True,  True],\n",
       "       [ True,  True,  True,  True],\n",
       "       [ True,  True,  True,  True],\n",
       "       [ True,  True,  True,  True]])"
      ]
     },
     "execution_count": 15,
     "metadata": {},
     "output_type": "execute_result"
    }
   ],
   "source": [
    "horiz_mask + vert_mask + minus45_mask + plus45_mask"
   ]
  },
  {
   "cell_type": "code",
   "execution_count": 16,
   "metadata": {},
   "outputs": [],
   "source": [
    "g_n= np.zeros(M.shape)\n",
    "for i in range(1,M.shape[0]-1):\n",
    "    for j in range(1,M.shape[1]-1):\n",
    "        if horiz_mask[i,j]:\n",
    "            if (horiz_mask[i,j+1] and M[i,j] < M[i,j+1]) or (horiz_mask[i,j-1] and M[i,j] < M[i,j-1]):\n",
    "                g_n[i,j] = 0\n",
    "            else:\n",
    "                g_n[i,j] = M[i,j]\n",
    "        elif vert_mask[i,j]:\n",
    "            if (vert_mask[i-1,j] and M[i,j] < M[i-1,j]) or (vert_mask[i+1,j] and M[i,j] < M[i+1,j]):\n",
    "                g_n[i,j] = 0\n",
    "            else:\n",
    "                g_n[i,j] = M[i,j]\n",
    "        \n",
    "        elif plus45_mask[i,j]:\n",
    "            if (plus45_mask[i-1,j-1] and M[i,j] < M[i-1,j-1]) or (plus45_mask[i+1,j+1] and M[i,j] < M[i+1,j+1]):\n",
    "                g_n[i,j] = 0\n",
    "            else:\n",
    "                g_n[i,j] = M[i,j]\n",
    "        elif minus45_mask[i,j]:\n",
    "            if (minus45_mask[i-1,j+1] and M[i,j] < M[i-1,j+1]) or (minus45_mask[i+1,j-1] and M[i,j] < M[i+1,j-1]):\n",
    "                g_n[i,j] = 0\n",
    "            else:\n",
    "                g_n[i,j] = M[i,j]"
   ]
  },
  {
   "cell_type": "code",
   "execution_count": 17,
   "metadata": {},
   "outputs": [
    {
     "data": {
      "text/plain": [
       "array([[ 0.,  0.,  0.,  0.],\n",
       "       [ 0.,  0., 24.,  0.],\n",
       "       [ 0.,  0., 20.,  0.],\n",
       "       [ 0.,  0.,  0.,  0.]])"
      ]
     },
     "execution_count": 17,
     "metadata": {},
     "output_type": "execute_result"
    }
   ],
   "source": [
    "g_n"
   ]
  },
  {
   "cell_type": "code",
   "execution_count": 18,
   "metadata": {},
   "outputs": [],
   "source": [
    "#Hysterisis thresholding"
   ]
  },
  {
   "cell_type": "code",
   "execution_count": null,
   "metadata": {},
   "outputs": [],
   "source": []
  },
  {
   "cell_type": "code",
   "execution_count": null,
   "metadata": {},
   "outputs": [],
   "source": []
  },
  {
   "cell_type": "code",
   "execution_count": 19,
   "metadata": {},
   "outputs": [
    {
     "name": "stdout",
     "output_type": "stream",
     "text": [
      "[[False  True  True False]\n",
      " [False False False False]\n",
      " [False False False False]\n",
      " [False False False False]]\n",
      "[[False False False False]\n",
      " [ True  True  True  True]\n",
      " [ True  True False False]\n",
      " [ True  True False  True]]\n",
      "[[False False False  True]\n",
      " [False False False False]\n",
      " [False False  True  True]\n",
      " [False False  True False]]\n",
      "[[ True False False False]\n",
      " [False False False False]\n",
      " [False False False False]\n",
      " [False False False False]]\n"
     ]
    }
   ],
   "source": [
    "horiz_mask = np.logical_or(np.logical_and(dir_M<=22.5,dir_M>=-22.5),np.logical_and(dir_M>=157.5,dir_M<=-157.5))\n",
    "print(horiz_mask)\n",
    "vert_mask = np.logical_or(np.logical_and(dir_M<=-67.5,dir_M>=-112.5),np.logical_and(dir_M<=112.5,dir_M>=67.5))\n",
    "print(vert_mask)\n",
    "plus45_mask = np.logical_or(np.logical_and(dir_M<157.5,dir_M>112.5),np.logical_and(dir_M<-22.5,dir_M>-67.5))\n",
    "print(plus45_mask)\n",
    "minus45_mask = np.logical_or(np.logical_and(dir_M<67.5,dir_M>22.5),np.logical_and(dir_M<-112.5,dir_M>-157.5))\n",
    "print(minus45_mask)\n",
    "g_n= np.zeros(M.shape)\n",
    "for i in range(1,M.shape[0]-1):\n",
    "    for j in range(1,M.shape[1]-1):\n",
    "        if horiz_mask[i,j]:\n",
    "            if M[i,j] < M[i,j+1] or M[i,j] < M[i,j-1]:\n",
    "                g_n[i,j] = 0\n",
    "            else:\n",
    "                g_n[i,j] = M[i,j]\n",
    "        elif vert_mask[i,j]:\n",
    "            if M[i,j] < M[i-1,j] or M[i,j] < M[i+1,j]:\n",
    "                g_n[i,j] = 0\n",
    "            else:\n",
    "                g_n[i,j] = M[i,j]\n",
    "        \n",
    "        elif plus45_mask[i,j]:\n",
    "            if M[i,j] < M[i-1,j-1] or M[i,j] < M[i+1,j+1]:\n",
    "                g_n[i,j] = 0\n",
    "            else:\n",
    "                g_n[i,j] = M[i,j]\n",
    "        elif minus45_mask[i,j]:\n",
    "            if M[i,j] < M[i-1,j+1] or M[i,j] < M[i+1,j-1]:\n",
    "                g_n[i,j] = 0\n",
    "            else:\n",
    "                g_n[i,j] = M[i,j]"
   ]
  },
  {
   "cell_type": "code",
   "execution_count": 20,
   "metadata": {},
   "outputs": [
    {
     "data": {
      "text/plain": [
       "array([[0., 0., 0., 0.],\n",
       "       [0., 0., 0., 0.],\n",
       "       [0., 0., 0., 0.],\n",
       "       [0., 0., 0., 0.]])"
      ]
     },
     "execution_count": 20,
     "metadata": {},
     "output_type": "execute_result"
    }
   ],
   "source": [
    "g_n"
   ]
  },
  {
   "cell_type": "code",
   "execution_count": 21,
   "metadata": {},
   "outputs": [],
   "source": [
    "import cv2\n",
    "import numpy as np\n",
    "f=np.array([[1,1,1,1],[0,10,10,1],[0,2,3,1],[0,5,15,8]])\n",
    "edges = cv2.Canny(np.uint8(f),36,12)\n"
   ]
  },
  {
   "cell_type": "code",
   "execution_count": 22,
   "metadata": {},
   "outputs": [
    {
     "data": {
      "text/plain": [
       "array([[ 1,  1,  1,  1],\n",
       "       [ 0, 10, 10,  1],\n",
       "       [ 0,  2,  3,  1],\n",
       "       [ 0,  5, 15,  8]])"
      ]
     },
     "execution_count": 22,
     "metadata": {},
     "output_type": "execute_result"
    }
   ],
   "source": [
    "f"
   ]
  },
  {
   "cell_type": "code",
   "execution_count": 23,
   "metadata": {},
   "outputs": [
    {
     "data": {
      "text/plain": [
       "array([[  0, 255, 255,   0],\n",
       "       [  0, 255,   0,   0],\n",
       "       [  0, 255,   0, 255],\n",
       "       [  0, 255, 255, 255]], dtype=uint8)"
      ]
     },
     "execution_count": 23,
     "metadata": {},
     "output_type": "execute_result"
    }
   ],
   "source": [
    "edges"
   ]
  },
  {
   "cell_type": "code",
   "execution_count": 24,
   "metadata": {},
   "outputs": [
    {
     "data": {
      "text/plain": [
       "array([[0., 0., 0., 0.],\n",
       "       [0., 0., 0., 0.],\n",
       "       [0., 0., 0., 0.],\n",
       "       [0., 0., 0., 0.]])"
      ]
     },
     "execution_count": 24,
     "metadata": {},
     "output_type": "execute_result"
    }
   ],
   "source": [
    "g_n"
   ]
  },
  {
   "cell_type": "code",
   "execution_count": 40,
   "metadata": {},
   "outputs": [],
   "source": [
    "t_l=30/100 * np.max(M.ravel())\n",
    "t_h=90/100 * np.max(M.ravel())"
   ]
  },
  {
   "cell_type": "code",
   "execution_count": 41,
   "metadata": {},
   "outputs": [],
   "source": [
    "g_nh = np.zeros(g_n.shape)\n",
    "g_nl = np.zeros(g_n.shape)"
   ]
  },
  {
   "cell_type": "code",
   "execution_count": 43,
   "metadata": {},
   "outputs": [],
   "source": [
    "for i in range(M.shape[0]):\n",
    "    for j in range(M.shape[1]):\n",
    "        if g_n[i,j] >= t_h:\n",
    "            g_nh[i,j] = 1\n",
    "        else:\n",
    "            g_nh[i,j] = 0\n",
    "        \n",
    "        if g_n[i,j] >= t_l:\n",
    "            g_nl[i,j] = 1\n",
    "        else:\n",
    "            g_nl[i,j] = 0"
   ]
  },
  {
   "cell_type": "code",
   "execution_count": 44,
   "metadata": {},
   "outputs": [
    {
     "data": {
      "text/plain": [
       "array([[0., 0., 0., 0.],\n",
       "       [0., 0., 0., 0.],\n",
       "       [0., 0., 0., 0.],\n",
       "       [0., 0., 0., 0.]])"
      ]
     },
     "execution_count": 44,
     "metadata": {},
     "output_type": "execute_result"
    }
   ],
   "source": [
    "g_nl"
   ]
  },
  {
   "cell_type": "code",
   "execution_count": 45,
   "metadata": {},
   "outputs": [
    {
     "data": {
      "text/plain": [
       "array([[0., 0., 0., 0.],\n",
       "       [0., 0., 0., 0.],\n",
       "       [0., 0., 0., 0.],\n",
       "       [0., 0., 0., 0.]])"
      ]
     },
     "execution_count": 45,
     "metadata": {},
     "output_type": "execute_result"
    }
   ],
   "source": [
    "g_nh"
   ]
  },
  {
   "cell_type": "code",
   "execution_count": null,
   "metadata": {},
   "outputs": [],
   "source": []
  }
 ],
 "metadata": {
  "kernelspec": {
   "display_name": "Python 3",
   "language": "python",
   "name": "python3"
  },
  "language_info": {
   "codemirror_mode": {
    "name": "ipython",
    "version": 3
   },
   "file_extension": ".py",
   "mimetype": "text/x-python",
   "name": "python",
   "nbconvert_exporter": "python",
   "pygments_lexer": "ipython3",
   "version": "3.8.5"
  }
 },
 "nbformat": 4,
 "nbformat_minor": 4
}
