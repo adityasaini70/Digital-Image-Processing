{
 "cells": [
  {
   "cell_type": "code",
   "execution_count": 17,
   "metadata": {},
   "outputs": [],
   "source": [
    "import numpy as np\n",
    "import matplotlib.pyplot as plt\n",
    "import pandas as pd"
   ]
  },
  {
   "cell_type": "code",
   "execution_count": 21,
   "metadata": {},
   "outputs": [],
   "source": [
    "def conv2d(input_matrix, kernel,same=False):\n",
    "    output = np.zeros([input_matrix.shape[0]+kernel.shape[0]-1, input_matrix.shape[1]+kernel.shape[1]-1])\n",
    "    #Rotating kernel by 180\n",
    "    rotated_kernel = np.zeros(kernel.shape)\n",
    "    for i in range(kernel.shape[0]):\n",
    "        for j in range(kernel.shape[1]):\n",
    "            rotated_kernel[i][j] = kernel[kernel.shape[0]-1-i][kernel.shape[1]-1-j]\n",
    "    print(rotated_kernel)\n",
    "\n",
    "    padded_img = np.zeros([input_matrix.shape[0] + 4, input_matrix.shape[1] + 4])\n",
    "    padded_img[2:2+input_matrix.shape[0], 2:2+input_matrix.shape[1]] = input_matrix\n",
    "    \n",
    "    for centre_row in range(output.shape[0]):\n",
    "        for centre_col in range(output.shape[1]):\n",
    "            padding_submat = padded_img[centre_row:kernel.shape[0]+centre_row, centre_col:kernel.shape[1]+centre_col]\n",
    "            product = rotated_kernel.flatten().dot(padding_submat.flatten())\n",
    "            output[centre_row][centre_col] = product\n",
    "            \n",
    "    if same==True:\n",
    "        limit_row=output.shape[0]-input_matrix.shape[0]\n",
    "        limit_col=output.shape[1]-input_matrix.shape[1]\n",
    "        output=output[limit_row-1:output.shape[0]-limit_row+1,limit_col-1:output.shape[1]-limit_col+1]\n",
    "        \n",
    "    return output"
   ]
  },
  {
   "cell_type": "code",
   "execution_count": 22,
   "metadata": {},
   "outputs": [
    {
     "name": "stdout",
     "output_type": "stream",
     "text": [
      "[[ 0.  1.  0.]\n",
      " [ 1. -4.  1.]\n",
      " [ 0.  1.  0.]]\n"
     ]
    }
   ],
   "source": [
    "kernel=np.array([[0,1,0],[1,-4,1],[0,1,0]])\n",
    "input_img=np.array([[6,7],[8,9]])\n",
    "conv_output=conv2d(input_img,kernel)"
   ]
  },
  {
   "cell_type": "code",
   "execution_count": 23,
   "metadata": {},
   "outputs": [
    {
     "name": "stdout",
     "output_type": "stream",
     "text": [
      "╒═══╤═════╤═════╤═══╕\n",
      "│ 0 │   6 │   7 │ 0 │\n",
      "├───┼─────┼─────┼───┤\n",
      "│ 6 │  -9 │ -13 │ 7 │\n",
      "├───┼─────┼─────┼───┤\n",
      "│ 8 │ -17 │ -21 │ 9 │\n",
      "├───┼─────┼─────┼───┤\n",
      "│ 0 │   8 │   9 │ 0 │\n",
      "╘═══╧═════╧═════╧═══╛\n"
     ]
    }
   ],
   "source": [
    "from tabulate import tabulate\n",
    "table = tabulate(conv_output, tablefmt=\"fancy_grid\")\n",
    "print(table)"
   ]
  },
  {
   "cell_type": "code",
   "execution_count": null,
   "metadata": {},
   "outputs": [],
   "source": []
  }
 ],
 "metadata": {
  "kernelspec": {
   "display_name": "Python 3",
   "language": "python",
   "name": "python3"
  },
  "language_info": {
   "codemirror_mode": {
    "name": "ipython",
    "version": 3
   },
   "file_extension": ".py",
   "mimetype": "text/x-python",
   "name": "python",
   "nbconvert_exporter": "python",
   "pygments_lexer": "ipython3",
   "version": "3.8.3"
  }
 },
 "nbformat": 4,
 "nbformat_minor": 4
}
